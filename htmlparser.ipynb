{
 "cells": [
  {
   "cell_type": "code",
   "execution_count": 1,
   "metadata": {
    "collapsed": true
   },
   "outputs": [],
   "source": [
    "from HTMLParser import HTMLParser\n",
    "from htmlentitydefs import name2codepoint\n",
    "\n",
    "class MyHTMLParser(HTMLParser):\n",
    "    def handle_starttag(self, tag, attrs):\n",
    "        print \"Start tag:\", tag\n",
    "        for attr in attrs:\n",
    "            print \"     attr:\", attr\n",
    "    def handle_endtag(self, tag):\n",
    "        print \"End tag  :\", tag\n",
    "    def handle_data(self, data):\n",
    "        print \"Data     :\", data\n",
    "    def handle_comment(self, data):\n",
    "        print \"Comment  :\", data\n",
    "    def handle_entityref(self, name):\n",
    "        c = unichr(name2codepoint[name])\n",
    "        print \"Named ent:\", c\n",
    "    def handle_charref(self, name):\n",
    "        if name.startswith('x'):\n",
    "            c = unichr(int(name[1:], 16))\n",
    "        else:\n",
    "            c = unichr(int(name))\n",
    "        print \"Num ent  :\", c\n",
    "    def handle_decl(self, data):\n",
    "        print \"Decl     :\", data\n",
    "\n",
    "parser = MyHTMLParser()"
   ]
  },
  {
   "cell_type": "code",
   "execution_count": 2,
   "metadata": {
    "collapsed": false
   },
   "outputs": [
    {
     "name": "stdout",
     "output_type": "stream",
     "text": [
      "Decl     : DOCTYPE HTML PUBLIC \"-//W3C//DTD HTML 4.01//EN\" \"http://www.w3.org/TR/html4/strict.dtd\"\n"
     ]
    }
   ],
   "source": [
    "parser.feed('<!DOCTYPE HTML PUBLIC \"-//W3C//DTD HTML 4.01//EN\" '\n",
    "            '\"http://www.w3.org/TR/html4/strict.dtd\">')"
   ]
  },
  {
   "cell_type": "code",
   "execution_count": 3,
   "metadata": {
    "collapsed": false
   },
   "outputs": [
    {
     "name": "stdout",
     "output_type": "stream",
     "text": [
      "Start tag: h1\n",
      "Data     : Python\n",
      "End tag  : h1\n"
     ]
    }
   ],
   "source": [
    "parser.feed('<h1>Python</h1>')"
   ]
  },
  {
   "cell_type": "code",
   "execution_count": null,
   "metadata": {
    "collapsed": true
   },
   "outputs": [],
   "source": []
  }
 ],
 "metadata": {
  "kernelspec": {
   "display_name": "Python 2",
   "language": "python",
   "name": "python2"
  },
  "language_info": {
   "codemirror_mode": {
    "name": "ipython",
    "version": 2
   },
   "file_extension": ".py",
   "mimetype": "text/x-python",
   "name": "python",
   "nbconvert_exporter": "python",
   "pygments_lexer": "ipython2",
   "version": "2.7.10"
  }
 },
 "nbformat": 4,
 "nbformat_minor": 0
}
